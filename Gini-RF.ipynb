{
 "cells": [
  {
   "cell_type": "code",
   "execution_count": null,
   "id": "2183b28e-2f6d-4f4a-90ae-ed56854f5d44",
   "metadata": {},
   "outputs": [],
   "source": [
    "import pandas as pd\n",
    "import seaborn as sns\n",
    "import numpy as np\n",
    "from sklearn import linear_model\n",
    "from sklearn.ensemble import RandomForestRegressor\n",
    "from sklearn import preprocessing\n",
    "from sklearn import linear_model\n",
    "\n",
    "test = pd.read_csv('/Users/pipi/Desktop/pipi-csv.file/1antioxidant/1oxi-5-15%test-14des.csv')\n",
    "train = pd.read_csv('/Users/pipi/Desktop/pipi-csv.file/1antioxidant/1oxi-15%train-14des.csv')\n",
    "x_train = train.loc[:,['changer of C1','charge of O2', 'charge of Se4', 'charge of -CN/F3', 'LUMO', 'E-gap']]\n",
    "x_test = test.loc[:,['changer of C1','charge of O2', 'charge of Se4', 'charge of -CN/F3', 'LUMO', 'E-gap']]\n",
    "y_train= train.iloc[:,0]\n",
    "y_test= test.iloc[:,0]\n",
    "model = RandomForestRegressor(bootstrap=True,max_features= 6 , min_samples_leaf = 1, \n",
    "                            min_samples_split = 2, n_estimators=20,max_samples=1.0)\n",
    "n = 1\n",
    "sum_x=[0 for i in range(len(importance))]\n",
    "print(sum_x)\n",
    "while(n<=100):\n",
    "    model.fit(x_train, y_train)   \n",
    "    x_train_column_name=list(x_train.columns)\n",
    "    importance = model.feature_importances_\n",
    "    feat_labels = x_train_column_name\n",
    "    imp_result = np.argsort(importance)[::-1][:20]\n",
    "    for j in range(len(importance)):\n",
    "        sum_x[j] = sum_x[j] + importance[j]\n",
    "        print(\"%2d. %-*s %f\" % (j + 1, 20, feat_labels[j], importance[j]))\n",
    "        print(sum_x[j])\n",
    "    # for i in range(len(imp_result)):\n",
    "    #     print(\"%2d. %-*s %f\" % (i + 1, 30, feat_labels[imp_result[i]], importance[imp_result[i]]))\n",
    "    #对属性列，按属性重要性从高到低进行排序\n",
    "    feat_labels = [feat_labels[i] for i in imp_result]\n",
    "    n = n + 1\n",
    "print(sum_x)"
   ]
  },
  {
   "cell_type": "code",
   "execution_count": null,
   "id": "7e9244b0-085f-4ef4-9f0d-f318024f129e",
   "metadata": {},
   "outputs": [],
   "source": [
    "# feature_sum=[0 for i in range(len(importance))]\n",
    "# print(feature_sum)"
   ]
  },
  {
   "cell_type": "code",
   "execution_count": null,
   "id": "2b4eaebd-1f34-4a45-a63f-9e7cbf645de6",
   "metadata": {},
   "outputs": [],
   "source": []
  }
 ],
 "metadata": {
  "kernelspec": {
   "display_name": "Python 3 (ipykernel)",
   "language": "python",
   "name": "python3"
  },
  "language_info": {
   "codemirror_mode": {
    "name": "ipython",
    "version": 3
   },
   "file_extension": ".py",
   "mimetype": "text/x-python",
   "name": "python",
   "nbconvert_exporter": "python",
   "pygments_lexer": "ipython3",
   "version": "3.9.12"
  }
 },
 "nbformat": 4,
 "nbformat_minor": 5
}
